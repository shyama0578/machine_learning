{
 "cells": [
  {
   "cell_type": "code",
   "execution_count": 52,
   "metadata": {},
   "outputs": [
    {
     "data": {
      "text/html": [
       "<div>\n",
       "<style scoped>\n",
       "    .dataframe tbody tr th:only-of-type {\n",
       "        vertical-align: middle;\n",
       "    }\n",
       "\n",
       "    .dataframe tbody tr th {\n",
       "        vertical-align: top;\n",
       "    }\n",
       "\n",
       "    .dataframe thead th {\n",
       "        text-align: right;\n",
       "    }\n",
       "</style>\n",
       "<table border=\"1\" class=\"dataframe\">\n",
       "  <thead>\n",
       "    <tr style=\"text-align: right;\">\n",
       "      <th></th>\n",
       "      <th>Father</th>\n",
       "      <th>Son</th>\n",
       "    </tr>\n",
       "  </thead>\n",
       "  <tbody>\n",
       "    <tr>\n",
       "      <th>0</th>\n",
       "      <td>65.0</td>\n",
       "      <td>59.8</td>\n",
       "    </tr>\n",
       "    <tr>\n",
       "      <th>1</th>\n",
       "      <td>63.3</td>\n",
       "      <td>63.2</td>\n",
       "    </tr>\n",
       "    <tr>\n",
       "      <th>2</th>\n",
       "      <td>65.0</td>\n",
       "      <td>63.3</td>\n",
       "    </tr>\n",
       "    <tr>\n",
       "      <th>3</th>\n",
       "      <td>65.8</td>\n",
       "      <td>62.8</td>\n",
       "    </tr>\n",
       "    <tr>\n",
       "      <th>4</th>\n",
       "      <td>61.1</td>\n",
       "      <td>64.3</td>\n",
       "    </tr>\n",
       "    <tr>\n",
       "      <th>...</th>\n",
       "      <td>...</td>\n",
       "      <td>...</td>\n",
       "    </tr>\n",
       "    <tr>\n",
       "      <th>1073</th>\n",
       "      <td>67.0</td>\n",
       "      <td>70.8</td>\n",
       "    </tr>\n",
       "    <tr>\n",
       "      <th>1074</th>\n",
       "      <td>71.3</td>\n",
       "      <td>68.3</td>\n",
       "    </tr>\n",
       "    <tr>\n",
       "      <th>1075</th>\n",
       "      <td>71.8</td>\n",
       "      <td>69.3</td>\n",
       "    </tr>\n",
       "    <tr>\n",
       "      <th>1076</th>\n",
       "      <td>70.7</td>\n",
       "      <td>69.3</td>\n",
       "    </tr>\n",
       "    <tr>\n",
       "      <th>1077</th>\n",
       "      <td>70.3</td>\n",
       "      <td>67.0</td>\n",
       "    </tr>\n",
       "  </tbody>\n",
       "</table>\n",
       "<p>1078 rows × 2 columns</p>\n",
       "</div>"
      ],
      "text/plain": [
       "      Father   Son\n",
       "0       65.0  59.8\n",
       "1       63.3  63.2\n",
       "2       65.0  63.3\n",
       "3       65.8  62.8\n",
       "4       61.1  64.3\n",
       "...      ...   ...\n",
       "1073    67.0  70.8\n",
       "1074    71.3  68.3\n",
       "1075    71.8  69.3\n",
       "1076    70.7  69.3\n",
       "1077    70.3  67.0\n",
       "\n",
       "[1078 rows x 2 columns]"
      ]
     },
     "execution_count": 52,
     "metadata": {},
     "output_type": "execute_result"
    }
   ],
   "source": [
    "import numpy as np\n",
    "import pandas as pd\n",
    "import matplotlib.pyplot as plt\n",
    "df=pd.read_csv(\"Pearson.csv\")\n",
    "df"
   ]
  },
  {
   "cell_type": "code",
   "execution_count": 53,
   "metadata": {},
   "outputs": [
    {
     "data": {
      "text/html": [
       "<div>\n",
       "<style scoped>\n",
       "    .dataframe tbody tr th:only-of-type {\n",
       "        vertical-align: middle;\n",
       "    }\n",
       "\n",
       "    .dataframe tbody tr th {\n",
       "        vertical-align: top;\n",
       "    }\n",
       "\n",
       "    .dataframe thead th {\n",
       "        text-align: right;\n",
       "    }\n",
       "</style>\n",
       "<table border=\"1\" class=\"dataframe\">\n",
       "  <thead>\n",
       "    <tr style=\"text-align: right;\">\n",
       "      <th></th>\n",
       "      <th>Father</th>\n",
       "      <th>Son</th>\n",
       "    </tr>\n",
       "  </thead>\n",
       "  <tbody>\n",
       "    <tr>\n",
       "      <th>0</th>\n",
       "      <td>65.0</td>\n",
       "      <td>59.8</td>\n",
       "    </tr>\n",
       "    <tr>\n",
       "      <th>1</th>\n",
       "      <td>63.3</td>\n",
       "      <td>63.2</td>\n",
       "    </tr>\n",
       "    <tr>\n",
       "      <th>2</th>\n",
       "      <td>65.0</td>\n",
       "      <td>63.3</td>\n",
       "    </tr>\n",
       "    <tr>\n",
       "      <th>3</th>\n",
       "      <td>65.8</td>\n",
       "      <td>62.8</td>\n",
       "    </tr>\n",
       "    <tr>\n",
       "      <th>4</th>\n",
       "      <td>61.1</td>\n",
       "      <td>64.3</td>\n",
       "    </tr>\n",
       "  </tbody>\n",
       "</table>\n",
       "</div>"
      ],
      "text/plain": [
       "   Father   Son\n",
       "0    65.0  59.8\n",
       "1    63.3  63.2\n",
       "2    65.0  63.3\n",
       "3    65.8  62.8\n",
       "4    61.1  64.3"
      ]
     },
     "execution_count": 53,
     "metadata": {},
     "output_type": "execute_result"
    }
   ],
   "source": [
    "df.head()"
   ]
  },
  {
   "cell_type": "code",
   "execution_count": 54,
   "metadata": {},
   "outputs": [
    {
     "data": {
      "text/html": [
       "<div>\n",
       "<style scoped>\n",
       "    .dataframe tbody tr th:only-of-type {\n",
       "        vertical-align: middle;\n",
       "    }\n",
       "\n",
       "    .dataframe tbody tr th {\n",
       "        vertical-align: top;\n",
       "    }\n",
       "\n",
       "    .dataframe thead th {\n",
       "        text-align: right;\n",
       "    }\n",
       "</style>\n",
       "<table border=\"1\" class=\"dataframe\">\n",
       "  <thead>\n",
       "    <tr style=\"text-align: right;\">\n",
       "      <th></th>\n",
       "      <th>Father</th>\n",
       "      <th>Son</th>\n",
       "    </tr>\n",
       "  </thead>\n",
       "  <tbody>\n",
       "    <tr>\n",
       "      <th>1073</th>\n",
       "      <td>67.0</td>\n",
       "      <td>70.8</td>\n",
       "    </tr>\n",
       "    <tr>\n",
       "      <th>1074</th>\n",
       "      <td>71.3</td>\n",
       "      <td>68.3</td>\n",
       "    </tr>\n",
       "    <tr>\n",
       "      <th>1075</th>\n",
       "      <td>71.8</td>\n",
       "      <td>69.3</td>\n",
       "    </tr>\n",
       "    <tr>\n",
       "      <th>1076</th>\n",
       "      <td>70.7</td>\n",
       "      <td>69.3</td>\n",
       "    </tr>\n",
       "    <tr>\n",
       "      <th>1077</th>\n",
       "      <td>70.3</td>\n",
       "      <td>67.0</td>\n",
       "    </tr>\n",
       "  </tbody>\n",
       "</table>\n",
       "</div>"
      ],
      "text/plain": [
       "      Father   Son\n",
       "1073    67.0  70.8\n",
       "1074    71.3  68.3\n",
       "1075    71.8  69.3\n",
       "1076    70.7  69.3\n",
       "1077    70.3  67.0"
      ]
     },
     "execution_count": 54,
     "metadata": {},
     "output_type": "execute_result"
    }
   ],
   "source": [
    "df.tail()"
   ]
  },
  {
   "cell_type": "code",
   "execution_count": 55,
   "metadata": {},
   "outputs": [
    {
     "data": {
      "text/plain": [
       "(1078, 2)"
      ]
     },
     "execution_count": 55,
     "metadata": {},
     "output_type": "execute_result"
    }
   ],
   "source": [
    "df.shape"
   ]
  },
  {
   "cell_type": "code",
   "execution_count": 56,
   "metadata": {},
   "outputs": [
    {
     "data": {
      "text/plain": [
       "Father    float64\n",
       "Son       float64\n",
       "dtype: object"
      ]
     },
     "execution_count": 56,
     "metadata": {},
     "output_type": "execute_result"
    }
   ],
   "source": [
    "df.dtypes"
   ]
  },
  {
   "cell_type": "code",
   "execution_count": 57,
   "metadata": {},
   "outputs": [
    {
     "data": {
      "text/plain": [
       "Father    0\n",
       "Son       0\n",
       "dtype: int64"
      ]
     },
     "execution_count": 57,
     "metadata": {},
     "output_type": "execute_result"
    }
   ],
   "source": [
    "df.isna().sum()"
   ]
  },
  {
   "cell_type": "code",
   "execution_count": 58,
   "metadata": {},
   "outputs": [
    {
     "data": {
      "text/html": [
       "<div>\n",
       "<style scoped>\n",
       "    .dataframe tbody tr th:only-of-type {\n",
       "        vertical-align: middle;\n",
       "    }\n",
       "\n",
       "    .dataframe tbody tr th {\n",
       "        vertical-align: top;\n",
       "    }\n",
       "\n",
       "    .dataframe thead th {\n",
       "        text-align: right;\n",
       "    }\n",
       "</style>\n",
       "<table border=\"1\" class=\"dataframe\">\n",
       "  <thead>\n",
       "    <tr style=\"text-align: right;\">\n",
       "      <th></th>\n",
       "      <th>Father</th>\n",
       "    </tr>\n",
       "  </thead>\n",
       "  <tbody>\n",
       "    <tr>\n",
       "      <th>0</th>\n",
       "      <td>65.0</td>\n",
       "    </tr>\n",
       "    <tr>\n",
       "      <th>1</th>\n",
       "      <td>63.3</td>\n",
       "    </tr>\n",
       "    <tr>\n",
       "      <th>2</th>\n",
       "      <td>65.0</td>\n",
       "    </tr>\n",
       "    <tr>\n",
       "      <th>3</th>\n",
       "      <td>65.8</td>\n",
       "    </tr>\n",
       "    <tr>\n",
       "      <th>4</th>\n",
       "      <td>61.1</td>\n",
       "    </tr>\n",
       "    <tr>\n",
       "      <th>...</th>\n",
       "      <td>...</td>\n",
       "    </tr>\n",
       "    <tr>\n",
       "      <th>1073</th>\n",
       "      <td>67.0</td>\n",
       "    </tr>\n",
       "    <tr>\n",
       "      <th>1074</th>\n",
       "      <td>71.3</td>\n",
       "    </tr>\n",
       "    <tr>\n",
       "      <th>1075</th>\n",
       "      <td>71.8</td>\n",
       "    </tr>\n",
       "    <tr>\n",
       "      <th>1076</th>\n",
       "      <td>70.7</td>\n",
       "    </tr>\n",
       "    <tr>\n",
       "      <th>1077</th>\n",
       "      <td>70.3</td>\n",
       "    </tr>\n",
       "  </tbody>\n",
       "</table>\n",
       "<p>1078 rows × 1 columns</p>\n",
       "</div>"
      ],
      "text/plain": [
       "      Father\n",
       "0       65.0\n",
       "1       63.3\n",
       "2       65.0\n",
       "3       65.8\n",
       "4       61.1\n",
       "...      ...\n",
       "1073    67.0\n",
       "1074    71.3\n",
       "1075    71.8\n",
       "1076    70.7\n",
       "1077    70.3\n",
       "\n",
       "[1078 rows x 1 columns]"
      ]
     },
     "execution_count": 58,
     "metadata": {},
     "output_type": "execute_result"
    }
   ],
   "source": [
    "x=df.iloc[:,:-1]\n",
    "x"
   ]
  },
  {
   "cell_type": "code",
   "execution_count": 59,
   "metadata": {},
   "outputs": [
    {
     "data": {
      "text/plain": [
       "0       59.8\n",
       "1       63.2\n",
       "2       63.3\n",
       "3       62.8\n",
       "4       64.3\n",
       "        ... \n",
       "1073    70.8\n",
       "1074    68.3\n",
       "1075    69.3\n",
       "1076    69.3\n",
       "1077    67.0\n",
       "Name: Son, Length: 1078, dtype: float64"
      ]
     },
     "execution_count": 59,
     "metadata": {},
     "output_type": "execute_result"
    }
   ],
   "source": [
    "y=df.iloc[:,-1]\n",
    "y"
   ]
  },
  {
   "cell_type": "code",
   "execution_count": 60,
   "metadata": {},
   "outputs": [
    {
     "data": {
      "text/plain": [
       "Text(0.5, 1.0, 'scatter plot')"
      ]
     },
     "execution_count": 60,
     "metadata": {},
     "output_type": "execute_result"
    },
    {
     "data": {
      "image/png": "[encoded data removed]",
      "text/plain": [
       "<Figure size 640x480 with 1 Axes>"
      ]
     },
     "metadata": {},
     "output_type": "display_data"
    }
   ],
   "source": [
    "plt.scatter(x,y,color=\"r\")\n",
    "plt.xlabel(\"father\",fontsize=18)\n",
    "plt.ylabel(\"son\",fontsize=18)\n",
    "plt.title(\"scatter plot\",fontsize=20)"
   ]
  },
  {
   "cell_type": "code",
   "execution_count": 61,
   "metadata": {},
   "outputs": [
    {
     "data": {
      "text/html": [
       "<div>\n",
       "<style scoped>\n",
       "    .dataframe tbody tr th:only-of-type {\n",
       "        vertical-align: middle;\n",
       "    }\n",
       "\n",
       "    .dataframe tbody tr th {\n",
       "        vertical-align: top;\n",
       "    }\n",
       "\n",
       "    .dataframe thead th {\n",
       "        text-align: right;\n",
       "    }\n",
       "</style>\n",
       "<table border=\"1\" class=\"dataframe\">\n",
       "  <thead>\n",
       "    <tr style=\"text-align: right;\">\n",
       "      <th></th>\n",
       "      <th>Father</th>\n",
       "    </tr>\n",
       "  </thead>\n",
       "  <tbody>\n",
       "    <tr>\n",
       "      <th>382</th>\n",
       "      <td>69.1</td>\n",
       "    </tr>\n",
       "    <tr>\n",
       "      <th>578</th>\n",
       "      <td>68.7</td>\n",
       "    </tr>\n",
       "    <tr>\n",
       "      <th>778</th>\n",
       "      <td>71.3</td>\n",
       "    </tr>\n",
       "    <tr>\n",
       "      <th>669</th>\n",
       "      <td>63.3</td>\n",
       "    </tr>\n",
       "    <tr>\n",
       "      <th>349</th>\n",
       "      <td>64.4</td>\n",
       "    </tr>\n",
       "    <tr>\n",
       "      <th>...</th>\n",
       "      <td>...</td>\n",
       "    </tr>\n",
       "    <tr>\n",
       "      <th>847</th>\n",
       "      <td>72.7</td>\n",
       "    </tr>\n",
       "    <tr>\n",
       "      <th>715</th>\n",
       "      <td>70.2</td>\n",
       "    </tr>\n",
       "    <tr>\n",
       "      <th>905</th>\n",
       "      <td>65.5</td>\n",
       "    </tr>\n",
       "    <tr>\n",
       "      <th>235</th>\n",
       "      <td>67.8</td>\n",
       "    </tr>\n",
       "    <tr>\n",
       "      <th>1061</th>\n",
       "      <td>71.0</td>\n",
       "    </tr>\n",
       "  </tbody>\n",
       "</table>\n",
       "<p>754 rows × 1 columns</p>\n",
       "</div>"
      ],
      "text/plain": [
       "      Father\n",
       "382     69.1\n",
       "578     68.7\n",
       "778     71.3\n",
       "669     63.3\n",
       "349     64.4\n",
       "...      ...\n",
       "847     72.7\n",
       "715     70.2\n",
       "905     65.5\n",
       "235     67.8\n",
       "1061    71.0\n",
       "\n",
       "[754 rows x 1 columns]"
      ]
     },
     "execution_count": 61,
     "metadata": {},
     "output_type": "execute_result"
    }
   ],
   "source": [
    "from sklearn.model_selection import train_test_split\n",
    "x_train,x_test,y_train,y_test=train_test_split(x,y,test_size=0.30,random_state=1)\n",
    "x_train"
   ]
  },
  {
   "cell_type": "code",
   "execution_count": 62,
   "metadata": {},
   "outputs": [
    {
     "data": {
      "text/html": [
       "<div>\n",
       "<style scoped>\n",
       "    .dataframe tbody tr th:only-of-type {\n",
       "        vertical-align: middle;\n",
       "    }\n",
       "\n",
       "    .dataframe tbody tr th {\n",
       "        vertical-align: top;\n",
       "    }\n",
       "\n",
       "    .dataframe thead th {\n",
       "        text-align: right;\n",
       "    }\n",
       "</style>\n",
       "<table border=\"1\" class=\"dataframe\">\n",
       "  <thead>\n",
       "    <tr style=\"text-align: right;\">\n",
       "      <th></th>\n",
       "      <th>Father</th>\n",
       "    </tr>\n",
       "  </thead>\n",
       "  <tbody>\n",
       "    <tr>\n",
       "      <th>435</th>\n",
       "      <td>62.3</td>\n",
       "    </tr>\n",
       "    <tr>\n",
       "      <th>340</th>\n",
       "      <td>68.6</td>\n",
       "    </tr>\n",
       "    <tr>\n",
       "      <th>546</th>\n",
       "      <td>67.2</td>\n",
       "    </tr>\n",
       "    <tr>\n",
       "      <th>90</th>\n",
       "      <td>67.6</td>\n",
       "    </tr>\n",
       "    <tr>\n",
       "      <th>472</th>\n",
       "      <td>64.1</td>\n",
       "    </tr>\n",
       "    <tr>\n",
       "      <th>...</th>\n",
       "      <td>...</td>\n",
       "    </tr>\n",
       "    <tr>\n",
       "      <th>12</th>\n",
       "      <td>63.7</td>\n",
       "    </tr>\n",
       "    <tr>\n",
       "      <th>250</th>\n",
       "      <td>68.3</td>\n",
       "    </tr>\n",
       "    <tr>\n",
       "      <th>282</th>\n",
       "      <td>69.4</td>\n",
       "    </tr>\n",
       "    <tr>\n",
       "      <th>268</th>\n",
       "      <td>65.7</td>\n",
       "    </tr>\n",
       "    <tr>\n",
       "      <th>699</th>\n",
       "      <td>65.6</td>\n",
       "    </tr>\n",
       "  </tbody>\n",
       "</table>\n",
       "<p>324 rows × 1 columns</p>\n",
       "</div>"
      ],
      "text/plain": [
       "     Father\n",
       "435    62.3\n",
       "340    68.6\n",
       "546    67.2\n",
       "90     67.6\n",
       "472    64.1\n",
       "..      ...\n",
       "12     63.7\n",
       "250    68.3\n",
       "282    69.4\n",
       "268    65.7\n",
       "699    65.6\n",
       "\n",
       "[324 rows x 1 columns]"
      ]
     },
     "execution_count": 62,
     "metadata": {},
     "output_type": "execute_result"
    }
   ],
   "source": [
    "x_test"
   ]
  },
  {
   "cell_type": "code",
   "execution_count": 63,
   "metadata": {},
   "outputs": [
    {
     "data": {
      "text/plain": [
       "382     71.2\n",
       "578     69.7\n",
       "778     69.4\n",
       "669     66.2\n",
       "349     70.0\n",
       "        ... \n",
       "847     74.5\n",
       "715     67.7\n",
       "905     67.2\n",
       "235     65.4\n",
       "1061    73.8\n",
       "Name: Son, Length: 754, dtype: float64"
      ]
     },
     "execution_count": 63,
     "metadata": {},
     "output_type": "execute_result"
    }
   ],
   "source": [
    "y_train"
   ]
  },
  {
   "cell_type": "code",
   "execution_count": 64,
   "metadata": {},
   "outputs": [
    {
     "data": {
      "text/plain": [
       "435    63.9\n",
       "340    69.2\n",
       "546    69.1\n",
       "90     68.2\n",
       "472    66.8\n",
       "       ... \n",
       "12     65.7\n",
       "250    66.2\n",
       "282    67.1\n",
       "268    67.0\n",
       "699    67.2\n",
       "Name: Son, Length: 324, dtype: float64"
      ]
     },
     "execution_count": 64,
     "metadata": {},
     "output_type": "execute_result"
    }
   ],
   "source": [
    "y_test"
   ]
  },
  {
   "cell_type": "code",
   "execution_count": 65,
   "metadata": {},
   "outputs": [
    {
     "data": {
      "text/plain": [
       "array([65.92267997, 69.1782239 , 68.45476969, 68.66147089, 66.85283538,\n",
       "       67.93801669, 71.91701482, 68.29974379, 67.62796488, 70.62513231,\n",
       "       67.16288718, 70.41843111, 69.02319799, 67.52461428, 67.05953658,\n",
       "       70.83183351, 68.04136729, 71.09021001, 70.056704  , 68.60979559,\n",
       "       68.09304259, 67.21456248, 68.19639319, 69.07487329, 72.48544312,\n",
       "       71.24523591, 69.539951  , 65.76765407, 68.97152269, 69.5916263 ,\n",
       "       68.97152269, 70.0050287 , 68.97152269, 70.1083793 , 69.4366004 ,\n",
       "       67.62796488, 70.52178171, 66.23273177, 67.73131548, 65.30257636,\n",
       "       70.88350881, 67.67964018, 68.55812029, 67.16288718, 68.50644499,\n",
       "       69.6949769 , 70.056704  , 67.67964018, 69.2815745 , 65.66430347,\n",
       "       69.3332498 , 69.8500028 , 71.65863832, 70.47010641, 69.3332498 ,\n",
       "       67.88634138, 68.04136729, 70.67680761, 70.2117299 , 67.47293898,\n",
       "       65.71597877, 66.85283538, 68.76482149, 71.03853471, 71.09021001,\n",
       "       68.76482149, 67.47293898, 68.24806849, 69.7983275 , 67.93801669,\n",
       "       70.1083793 , 68.76482149, 69.02319799, 68.66147089, 68.71314619,\n",
       "       67.57628958, 67.26623778, 69.1265486 , 66.95618598, 68.76482149,\n",
       "       68.91984739, 69.539951  , 68.45476969, 70.47010641, 67.78299078,\n",
       "       66.64613417, 66.28440707, 69.6949769 , 67.11121188, 65.81932937,\n",
       "       68.55812029, 67.47293898, 68.45476969, 67.11121188, 68.66147089,\n",
       "       64.94084926, 69.7466522 , 68.29974379, 68.91984739, 70.056704  ,\n",
       "       70.31508051, 69.5916263 , 68.04136729, 68.71314619, 69.6433016 ,\n",
       "       69.9016781 , 67.52461428, 67.98969199, 71.45193712, 67.83466608,\n",
       "       70.056704  , 66.95618598, 68.86817209, 66.12938117, 67.52461428,\n",
       "       66.95618598, 67.73131548, 71.14188531, 69.02319799, 68.76482149,\n",
       "       67.88634138, 69.3849251 , 71.60696302, 67.26623778, 68.40309439,\n",
       "       68.81649679, 65.19922576, 67.67964018, 68.45476969, 68.19639319,\n",
       "       67.57628958, 67.83466608, 69.7983275 , 68.81649679, 67.78299078,\n",
       "       68.50644499, 69.539951  , 68.09304259, 69.2815745 , 71.14188531,\n",
       "       68.45476969, 70.57345701, 70.0050287 , 69.5916263 , 68.40309439,\n",
       "       66.43943297, 66.64613417, 67.16288718, 68.76482149, 69.2815745 ,\n",
       "       67.67964018, 72.58879373, 67.62796488, 68.24806849, 67.93801669,\n",
       "       69.3332498 , 69.02319799, 68.86817209, 68.24806849, 67.62796488,\n",
       "       67.52461428, 67.16288718, 68.09304259, 69.3332498 , 70.47010641,\n",
       "       68.55812029, 69.539951  , 69.2815745 , 67.67964018, 68.50644499,\n",
       "       67.83466608, 69.539951  , 70.41843111, 66.95618598, 69.1782239 ,\n",
       "       66.80116008, 68.55812029, 66.85283538, 67.21456248, 69.7983275 ,\n",
       "       67.11121188, 71.24523591, 65.50927756, 68.81649679, 69.07487329,\n",
       "       67.16288718, 68.29974379, 67.42126368, 68.81649679, 68.24806849,\n",
       "       69.2298992 , 70.83183351, 68.19639319, 69.2815745 , 70.0050287 ,\n",
       "       67.73131548, 71.19356061, 68.24806849, 69.4366004 , 69.7466522 ,\n",
       "       68.97152269, 69.4366004 , 67.73131548, 68.09304259, 67.88634138,\n",
       "       68.91984739, 69.2815745 , 67.31791308, 68.60979559, 71.34858651,\n",
       "       66.18105647, 67.11121188, 69.4366004 , 68.40309439, 69.7983275 ,\n",
       "       69.1265486 , 70.0050287 , 68.60979559, 70.67680761, 69.4882757 ,\n",
       "       67.11121188, 67.05953658, 69.539951  , 70.36675581, 67.98969199,\n",
       "       66.23273177, 69.1265486 , 69.3849251 , 69.02319799, 69.8500028 ,\n",
       "       68.40309439, 67.67964018, 66.28440707, 66.85283538, 70.1600546 ,\n",
       "       67.21456248, 68.71314619, 69.8500028 , 68.66147089, 68.60979559,\n",
       "       68.81649679, 66.23273177, 68.19639319, 70.41843111, 69.07487329,\n",
       "       68.14471789, 67.93801669, 67.88634138, 67.11121188, 67.73131548,\n",
       "       66.12938117, 67.88634138, 69.6949769 , 68.91984739, 67.62796488,\n",
       "       68.45476969, 67.62796488, 68.35141909, 71.60696302, 71.03853471,\n",
       "       69.1782239 , 68.45476969, 68.29974379, 69.1265486 , 66.74948477,\n",
       "       69.8500028 , 67.98969199, 67.83466608, 67.26623778, 70.0050287 ,\n",
       "       70.056704  , 67.52461428, 69.539951  , 67.73131548, 72.38209252,\n",
       "       69.2298992 , 69.4882757 , 70.1600546 , 68.40309439, 71.55528772,\n",
       "       68.71314619, 70.88350881, 69.07487329, 67.21456248, 66.85283538,\n",
       "       69.3849251 , 67.83466608, 68.40309439, 67.98969199, 66.18105647,\n",
       "       70.57345701, 68.97152269, 67.47293898, 69.9016781 , 70.88350881,\n",
       "       68.97152269, 67.83466608, 71.24523591, 69.3332498 , 69.07487329,\n",
       "       68.04136729, 68.35141909, 67.47293898, 67.31791308, 67.73131548,\n",
       "       69.4882757 , 69.6433016 , 67.62796488, 67.67964018, 70.2117299 ,\n",
       "       68.66147089, 69.6949769 , 70.52178171, 65.81932937, 67.52461428,\n",
       "       68.91984739, 68.76482149, 69.2815745 , 67.83466608, 66.64613417,\n",
       "       69.02319799, 69.5916263 , 67.67964018, 67.62796488])"
      ]
     },
     "execution_count": 65,
     "metadata": {},
     "output_type": "execute_result"
    }
   ],
   "source": [
    "from sklearn.linear_model import LinearRegression\n",
    "model=LinearRegression()\n",
    "model.fit(x_train,y_train)\n",
    "y_pred=model.predict(x_test)\n",
    "y_pred"
   ]
  },
  {
   "cell_type": "code",
   "execution_count": 66,
   "metadata": {},
   "outputs": [],
   "source": [
    "# print(model.predict([[57.5,65.8]]))"
   ]
  },
  {
   "cell_type": "code",
   "execution_count": null,
   "metadata": {},
   "outputs": [
    {
     "data": {
      "text/plain": [
       "Text(0.5, 1.0, 'scatter plot')"
      ]
     },
     "execution_count": 68,
     "metadata": {},
     "output_type": "execute_result"
    },
    {
     "data": {
      "image/png": "[encoded data removed]",
      "text/plain": [
       "<Figure size 640x480 with 1 Axes>"
      ]
     },
     "metadata": {},
     "output_type": "display_data"
    }
   ],
   "source": [
    "plt.scatter(x_train,y_train,color=\"r\")\n",
    "plt.plot(x_test,y_pred,color=\"k\")\n",
    "plt.xlabel(\"father\",fontsize=18)\n",
    "plt.ylabel(\"sons\",fontsize=18)\n",
    "plt.title(\"scatter plot\",fontsize=20)"
   ]
  },
  {
   "cell_type": "code",
   "execution_count": 69,
   "metadata": {},
   "outputs": [
    {
     "name": "stdout",
     "output_type": "stream",
     "text": [
      "slope is [0.516753]\n"
     ]
    }
   ],
   "source": [
    "print(\"slope is\",model.coef_)"
   ]
  },
  {
   "cell_type": "code",
   "execution_count": 70,
   "metadata": {},
   "outputs": [
    {
     "name": "stdout",
     "output_type": "stream",
     "text": [
      "constant is 33.72896778928395\n"
     ]
    }
   ],
   "source": [
    "print(\"constant is\",model.intercept_)"
   ]
  },
  {
   "cell_type": "code",
   "execution_count": 73,
   "metadata": {},
   "outputs": [
    {
     "data": {
      "text/html": [
       "<div>\n",
       "<style scoped>\n",
       "    .dataframe tbody tr th:only-of-type {\n",
       "        vertical-align: middle;\n",
       "    }\n",
       "\n",
       "    .dataframe tbody tr th {\n",
       "        vertical-align: top;\n",
       "    }\n",
       "\n",
       "    .dataframe thead th {\n",
       "        text-align: right;\n",
       "    }\n",
       "</style>\n",
       "<table border=\"1\" class=\"dataframe\">\n",
       "  <thead>\n",
       "    <tr style=\"text-align: right;\">\n",
       "      <th></th>\n",
       "      <th>actualvalue</th>\n",
       "      <th>predicted value</th>\n",
       "      <th>difference</th>\n",
       "    </tr>\n",
       "  </thead>\n",
       "  <tbody>\n",
       "    <tr>\n",
       "      <th>435</th>\n",
       "      <td>63.9</td>\n",
       "      <td>65.922680</td>\n",
       "      <td>-2.022680</td>\n",
       "    </tr>\n",
       "    <tr>\n",
       "      <th>340</th>\n",
       "      <td>69.2</td>\n",
       "      <td>69.178224</td>\n",
       "      <td>0.021776</td>\n",
       "    </tr>\n",
       "    <tr>\n",
       "      <th>546</th>\n",
       "      <td>69.1</td>\n",
       "      <td>68.454770</td>\n",
       "      <td>0.645230</td>\n",
       "    </tr>\n",
       "    <tr>\n",
       "      <th>90</th>\n",
       "      <td>68.2</td>\n",
       "      <td>68.661471</td>\n",
       "      <td>-0.461471</td>\n",
       "    </tr>\n",
       "    <tr>\n",
       "      <th>472</th>\n",
       "      <td>66.8</td>\n",
       "      <td>66.852835</td>\n",
       "      <td>-0.052835</td>\n",
       "    </tr>\n",
       "    <tr>\n",
       "      <th>...</th>\n",
       "      <td>...</td>\n",
       "      <td>...</td>\n",
       "      <td>...</td>\n",
       "    </tr>\n",
       "    <tr>\n",
       "      <th>12</th>\n",
       "      <td>65.7</td>\n",
       "      <td>66.646134</td>\n",
       "      <td>-0.946134</td>\n",
       "    </tr>\n",
       "    <tr>\n",
       "      <th>250</th>\n",
       "      <td>66.2</td>\n",
       "      <td>69.023198</td>\n",
       "      <td>-2.823198</td>\n",
       "    </tr>\n",
       "    <tr>\n",
       "      <th>282</th>\n",
       "      <td>67.1</td>\n",
       "      <td>69.591626</td>\n",
       "      <td>-2.491626</td>\n",
       "    </tr>\n",
       "    <tr>\n",
       "      <th>268</th>\n",
       "      <td>67.0</td>\n",
       "      <td>67.679640</td>\n",
       "      <td>-0.679640</td>\n",
       "    </tr>\n",
       "    <tr>\n",
       "      <th>699</th>\n",
       "      <td>67.2</td>\n",
       "      <td>67.627965</td>\n",
       "      <td>-0.427965</td>\n",
       "    </tr>\n",
       "  </tbody>\n",
       "</table>\n",
       "<p>324 rows × 3 columns</p>\n",
       "</div>"
      ],
      "text/plain": [
       "     actualvalue  predicted value  difference\n",
       "435         63.9        65.922680   -2.022680\n",
       "340         69.2        69.178224    0.021776\n",
       "546         69.1        68.454770    0.645230\n",
       "90          68.2        68.661471   -0.461471\n",
       "472         66.8        66.852835   -0.052835\n",
       "..           ...              ...         ...\n",
       "12          65.7        66.646134   -0.946134\n",
       "250         66.2        69.023198   -2.823198\n",
       "282         67.1        69.591626   -2.491626\n",
       "268         67.0        67.679640   -0.679640\n",
       "699         67.2        67.627965   -0.427965\n",
       "\n",
       "[324 rows x 3 columns]"
      ]
     },
     "execution_count": 73,
     "metadata": {},
     "output_type": "execute_result"
    }
   ],
   "source": [
    "df1=pd.DataFrame({\"actualvalue\":y_test,\"predicted value\":y_pred,\"difference\":y_test-y_pred})\n",
    "df1"
   ]
  },
  {
   "cell_type": "code",
   "execution_count": 74,
   "metadata": {},
   "outputs": [
    {
     "data": {
      "text/plain": [
       "1.8604116267799427"
      ]
     },
     "execution_count": 74,
     "metadata": {},
     "output_type": "execute_result"
    }
   ],
   "source": [
    "from sklearn.metrics import mean_absolute_error\n",
    "MAE=mean_absolute_error(y_test,y_pred)\n",
    "MAE"
   ]
  },
  {
   "cell_type": "code",
   "execution_count": 75,
   "metadata": {},
   "outputs": [
    {
     "data": {
      "text/plain": [
       "0.02725255601019402"
      ]
     },
     "execution_count": 75,
     "metadata": {},
     "output_type": "execute_result"
    }
   ],
   "source": [
    "from sklearn.metrics import mean_absolute_percentage_error\n",
    "MAPE=mean_absolute_percentage_error(y_test,y_pred)\n",
    "MAPE"
   ]
  },
  {
   "cell_type": "code",
   "execution_count": 76,
   "metadata": {},
   "outputs": [
    {
     "data": {
      "text/plain": [
       "5.767494510777141"
      ]
     },
     "execution_count": 76,
     "metadata": {},
     "output_type": "execute_result"
    }
   ],
   "source": [
    "from sklearn.metrics import mean_squared_error\n",
    "MSE=mean_squared_error(y_test,y_pred)\n",
    "MSE"
   ]
  },
  {
   "cell_type": "code",
   "execution_count": 77,
   "metadata": {},
   "outputs": [
    {
     "data": {
      "text/plain": [
       "2.401560848859995"
      ]
     },
     "execution_count": 77,
     "metadata": {},
     "output_type": "execute_result"
    }
   ],
   "source": [
    "from sklearn.metrics import root_mean_squared_error\n",
    "RMSE=root_mean_squared_error(y_test,y_pred)\n",
    "RMSE"
   ]
  },
  {
   "cell_type": "code",
   "execution_count": 78,
   "metadata": {},
   "outputs": [
    {
     "data": {
      "text/plain": [
       "0.24458872247423524"
      ]
     },
     "execution_count": 78,
     "metadata": {},
     "output_type": "execute_result"
    }
   ],
   "source": [
    "from sklearn.metrics import r2_score\n",
    "score=r2_score(y_test,y_pred)\n",
    "score"
   ]
  }
 ],
 "metadata": {
  "kernelspec": {
   "display_name": "Python 3",
   "language": "python",
   "name": "python3"
  },
  "language_info": {
   "codemirror_mode": {
    "name": "ipython",
    "version": 3
   },
   "file_extension": ".py",
   "mimetype": "text/x-python",
   "name": "python",
   "nbconvert_exporter": "python",
   "pygments_lexer": "ipython3",
   "version": "3.13.0"
  }
 },
 "nbformat": 4,
 "nbformat_minor": 2
}
