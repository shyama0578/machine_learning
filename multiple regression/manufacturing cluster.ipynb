{
 "cells": [
  {
   "cell_type": "code",
   "execution_count": 8,
   "metadata": {},
   "outputs": [
    {
     "data": {
      "text/html": [
       "<div>\n",
       "<style scoped>\n",
       "    .dataframe tbody tr th:only-of-type {\n",
       "        vertical-align: middle;\n",
       "    }\n",
       "\n",
       "    .dataframe tbody tr th {\n",
       "        vertical-align: top;\n",
       "    }\n",
       "\n",
       "    .dataframe thead th {\n",
       "        text-align: right;\n",
       "    }\n",
       "</style>\n",
       "<table border=\"1\" class=\"dataframe\">\n",
       "  <thead>\n",
       "    <tr style=\"text-align: right;\">\n",
       "      <th></th>\n",
       "      <th>Temperature (°C)</th>\n",
       "      <th>Pressure (kPa)</th>\n",
       "      <th>Temperature x Pressure</th>\n",
       "      <th>Material Fusion Metric</th>\n",
       "      <th>Material Transformation Metric</th>\n",
       "      <th>Quality Rating</th>\n",
       "    </tr>\n",
       "  </thead>\n",
       "  <tbody>\n",
       "    <tr>\n",
       "      <th>0</th>\n",
       "      <td>209.762701</td>\n",
       "      <td>8.050855</td>\n",
       "      <td>1688.769167</td>\n",
       "      <td>44522.217074</td>\n",
       "      <td>9.229576e+06</td>\n",
       "      <td>99.999971</td>\n",
       "    </tr>\n",
       "    <tr>\n",
       "      <th>1</th>\n",
       "      <td>243.037873</td>\n",
       "      <td>15.812068</td>\n",
       "      <td>3842.931469</td>\n",
       "      <td>63020.764997</td>\n",
       "      <td>1.435537e+07</td>\n",
       "      <td>99.985703</td>\n",
       "    </tr>\n",
       "    <tr>\n",
       "      <th>2</th>\n",
       "      <td>220.552675</td>\n",
       "      <td>7.843130</td>\n",
       "      <td>1729.823314</td>\n",
       "      <td>49125.950249</td>\n",
       "      <td>1.072839e+07</td>\n",
       "      <td>99.999758</td>\n",
       "    </tr>\n",
       "    <tr>\n",
       "      <th>3</th>\n",
       "      <td>208.976637</td>\n",
       "      <td>23.786089</td>\n",
       "      <td>4970.736918</td>\n",
       "      <td>57128.881547</td>\n",
       "      <td>9.125702e+06</td>\n",
       "      <td>99.999975</td>\n",
       "    </tr>\n",
       "    <tr>\n",
       "      <th>4</th>\n",
       "      <td>184.730960</td>\n",
       "      <td>15.797812</td>\n",
       "      <td>2918.345014</td>\n",
       "      <td>38068.201283</td>\n",
       "      <td>6.303792e+06</td>\n",
       "      <td>100.000000</td>\n",
       "    </tr>\n",
       "    <tr>\n",
       "      <th>...</th>\n",
       "      <td>...</td>\n",
       "      <td>...</td>\n",
       "      <td>...</td>\n",
       "      <td>...</td>\n",
       "      <td>...</td>\n",
       "      <td>...</td>\n",
       "    </tr>\n",
       "    <tr>\n",
       "      <th>3952</th>\n",
       "      <td>156.811578</td>\n",
       "      <td>21.794290</td>\n",
       "      <td>3417.596965</td>\n",
       "      <td>34941.963896</td>\n",
       "      <td>3.855501e+06</td>\n",
       "      <td>100.000000</td>\n",
       "    </tr>\n",
       "    <tr>\n",
       "      <th>3953</th>\n",
       "      <td>197.850406</td>\n",
       "      <td>8.291704</td>\n",
       "      <td>1640.516924</td>\n",
       "      <td>39714.857236</td>\n",
       "      <td>7.744742e+06</td>\n",
       "      <td>99.999997</td>\n",
       "    </tr>\n",
       "    <tr>\n",
       "      <th>3954</th>\n",
       "      <td>241.357144</td>\n",
       "      <td>16.391910</td>\n",
       "      <td>3956.304672</td>\n",
       "      <td>62657.690952</td>\n",
       "      <td>1.405957e+07</td>\n",
       "      <td>99.989318</td>\n",
       "    </tr>\n",
       "    <tr>\n",
       "      <th>3955</th>\n",
       "      <td>209.040239</td>\n",
       "      <td>23.809936</td>\n",
       "      <td>4977.234763</td>\n",
       "      <td>57195.985528</td>\n",
       "      <td>9.134036e+06</td>\n",
       "      <td>99.999975</td>\n",
       "    </tr>\n",
       "    <tr>\n",
       "      <th>3956</th>\n",
       "      <td>163.359996</td>\n",
       "      <td>24.332133</td>\n",
       "      <td>3974.897121</td>\n",
       "      <td>41092.392901</td>\n",
       "      <td>4.358913e+06</td>\n",
       "      <td>100.000000</td>\n",
       "    </tr>\n",
       "  </tbody>\n",
       "</table>\n",
       "<p>3957 rows × 6 columns</p>\n",
       "</div>"
      ],
      "text/plain": [
       "      Temperature (°C)  Pressure (kPa)  Temperature x Pressure  \\\n",
       "0           209.762701        8.050855             1688.769167   \n",
       "1           243.037873       15.812068             3842.931469   \n",
       "2           220.552675        7.843130             1729.823314   \n",
       "3           208.976637       23.786089             4970.736918   \n",
       "4           184.730960       15.797812             2918.345014   \n",
       "...                ...             ...                     ...   \n",
       "3952        156.811578       21.794290             3417.596965   \n",
       "3953        197.850406        8.291704             1640.516924   \n",
       "3954        241.357144       16.391910             3956.304672   \n",
       "3955        209.040239       23.809936             4977.234763   \n",
       "3956        163.359996       24.332133             3974.897121   \n",
       "\n",
       "      Material Fusion Metric  Material Transformation Metric  Quality Rating  \n",
       "0               44522.217074                    9.229576e+06       99.999971  \n",
       "1               63020.764997                    1.435537e+07       99.985703  \n",
       "2               49125.950249                    1.072839e+07       99.999758  \n",
       "3               57128.881547                    9.125702e+06       99.999975  \n",
       "4               38068.201283                    6.303792e+06      100.000000  \n",
       "...                      ...                             ...             ...  \n",
       "3952            34941.963896                    3.855501e+06      100.000000  \n",
       "3953            39714.857236                    7.744742e+06       99.999997  \n",
       "3954            62657.690952                    1.405957e+07       99.989318  \n",
       "3955            57195.985528                    9.134036e+06       99.999975  \n",
       "3956            41092.392901                    4.358913e+06      100.000000  \n",
       "\n",
       "[3957 rows x 6 columns]"
      ]
     },
     "execution_count": 8,
     "metadata": {},
     "output_type": "execute_result"
    }
   ],
   "source": [
    "import numpy as np\n",
    "import pandas as pd\n",
    "import seaborn as sns\n",
    "df=pd.read_csv(\"manufacturing.csv\")\n",
    "df"
   ]
  },
  {
   "cell_type": "code",
   "execution_count": 9,
   "metadata": {},
   "outputs": [
    {
     "data": {
      "text/plain": [
       "<Axes: ylabel='Temperature x Pressure'>"
      ]
     },
     "execution_count": 9,
     "metadata": {},
     "output_type": "execute_result"
    },
    {
     "data": {
      "image/png": "[encoded data removed]",
      "text/plain": [
       "<Figure size 640x480 with 1 Axes>"
      ]
     },
     "metadata": {},
     "output_type": "display_data"
    }
   ],
   "source": [
    "sns.boxplot(y=\"Temperature x Pressure\",data=df)"
   ]
  },
  {
   "cell_type": "code",
   "execution_count": 10,
   "metadata": {},
   "outputs": [
    {
     "name": "stdout",
     "output_type": "stream",
     "text": [
      "      Temperature (°C)  Pressure (kPa)  Temperature x Pressure  \\\n",
      "0           209.762701        8.050855             1688.769167   \n",
      "1           243.037873       15.812068             3842.931469   \n",
      "2           220.552675        7.843130             1729.823314   \n",
      "3           208.976637       23.786089             4970.736918   \n",
      "4           184.730960       15.797812             2918.345014   \n",
      "...                ...             ...                     ...   \n",
      "3952        156.811578       21.794290             3417.596965   \n",
      "3953        197.850406        8.291704             1640.516924   \n",
      "3954        241.357144       16.391910             3956.304672   \n",
      "3955        209.040239       23.809936             4977.234763   \n",
      "3956        163.359996       24.332133             3974.897121   \n",
      "\n",
      "      Material Fusion Metric  Material Transformation Metric  Quality Rating  \n",
      "0               44522.217074                    9.229576e+06       99.999971  \n",
      "1               63020.764997                    1.435537e+07       99.985703  \n",
      "2               49125.950249                    1.072839e+07       99.999758  \n",
      "3               57128.881547                    9.125702e+06       99.999975  \n",
      "4               38068.201283                    6.303792e+06      100.000000  \n",
      "...                      ...                             ...             ...  \n",
      "3952            34941.963896                    3.855501e+06      100.000000  \n",
      "3953            39714.857236                    7.744742e+06       99.999997  \n",
      "3954            62657.690952                    1.405957e+07       99.989318  \n",
      "3955            57195.985528                    9.134036e+06       99.999975  \n",
      "3956            41092.392901                    4.358913e+06      100.000000  \n",
      "\n",
      "[3957 rows x 6 columns]\n"
     ]
    }
   ],
   "source": [
    "\n",
    "x=df['Temperature x Pressure'].mean()\n",
    "for i in df.index:\n",
    "    if df.loc[i,'Temperature x Pressure']>7000:\n",
    "        df.loc[i,'Temperature x Pressure']=x\n",
    "print(df)"
   ]
  },
  {
   "cell_type": "code",
   "execution_count": 11,
   "metadata": {},
   "outputs": [
    {
     "data": {
      "text/plain": [
       "<Axes: ylabel='Temperature x Pressure'>"
      ]
     },
     "execution_count": 11,
     "metadata": {},
     "output_type": "execute_result"
    },
    {
     "data": {
      "image/png": "[encoded data removed]",
      "text/plain": [
       "<Figure size 640x480 with 1 Axes>"
      ]
     },
     "metadata": {},
     "output_type": "display_data"
    }
   ],
   "source": [
    "sns.boxplot(y=\"Temperature x Pressure\",data=df)"
   ]
  },
  {
   "cell_type": "code",
   "execution_count": null,
   "metadata": {},
   "outputs": [],
   "source": []
  }
 ],
 "metadata": {
  "kernelspec": {
   "display_name": "Python 3",
   "language": "python",
   "name": "python3"
  },
  "language_info": {
   "codemirror_mode": {
    "name": "ipython",
    "version": 3
   },
   "file_extension": ".py",
   "mimetype": "text/x-python",
   "name": "python",
   "nbconvert_exporter": "python",
   "pygments_lexer": "ipython3",
   "version": "3.13.0"
  }
 },
 "nbformat": 4,
 "nbformat_minor": 2
}
